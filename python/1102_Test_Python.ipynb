{
  "nbformat": 4,
  "nbformat_minor": 0,
  "metadata": {
    "colab": {
      "provenance": [],
      "collapsed_sections": []
    },
    "kernelspec": {
      "name": "python3",
      "display_name": "Python 3"
    },
    "language_info": {
      "name": "python"
    }
  },
  "cells": [
    {
      "cell_type": "markdown",
      "source": [
        "# 1.\n",
        "Which following is the correct way to create a dictionary in Python?\n",
        "   \n",
        "   (A) students = { 'name' => 'alice' ;  'score' =>60 }\n",
        "   \n",
        "   (B) students = { 'name' = 'alice' ;  'score' =60 }\n",
        "   \n",
        "   (C) students = { 'name' : 'alice' ;  'score' : 60 }\n",
        "   \n",
        "   (D) students = { 'name' => 'alice' ,  'score' =>60 }\n",
        "   \n",
        "   (E) students = { 'name' : 'alice' , 'score' : 60 }\n",
        "\n",
        "#   E\n",
        "  "
      ],
      "metadata": {
        "id": "P3xxB5tTs5ao"
      }
    },
    {
      "cell_type": "markdown",
      "source": [
        "# 2.\n",
        "What does the following Python program fragment do?\n",
        "\n",
        "   s=0\n",
        "   for i in range (3 , 10) :\n",
        "        s+=i\n",
        "   print (s)\n",
        "   \n",
        "   (A) Calculate the sum of 1+2+…+10\n",
        "   \n",
        "   (B) Calculate the sum of 1+4+7+10\n",
        "   \n",
        "   (C) Calculate the sum of 3+4+5+6+…+9\n",
        "   \n",
        "   (D) Calculate the sum of 3+4+5+6+…+10\n",
        "   \n",
        "   (E) Calculate the sum of 0+2+4+6+…+10\n",
        "\n",
        "#   C\n"
      ],
      "metadata": {
        "id": "TAz77ZmatL_M"
      }
    },
    {
      "cell_type": "markdown",
      "source": [
        "# 3.\n",
        "What is the output of this code in Python?\n",
        "      list = [ ' a ' ,  ' b ' ,  ' c ' ,  ' d ' ,  ' e ' ]\n",
        "      print (list [ 1 : ])\n",
        "   \n",
        "   (A) [ ]\n",
        "   \n",
        "   (B) [ 'b' ]\n",
        "   \n",
        "   (C) [ 'a' ,  'b' ]\n",
        "   \n",
        "  (D) [ 'b' ,  'c' ,  'd' ,  'e' ]\n",
        "\n",
        "#D"
      ],
      "metadata": {
        "id": "9Xh48GRotUed"
      }
    },
    {
      "cell_type": "markdown",
      "source": [
        "# 4.\n",
        "What is the output of this code in Python?\n",
        "        L1 = [ ]\n",
        "        L1.append ( [1, [2, 3], 4] )\n",
        "        L1.extend ( [7, 8, 9] )\n",
        "        print(L1[0][1][1] + L1[2] )\n",
        "   \n",
        "   (A) 3  \n",
        "   (B) 8  \n",
        "   (C) 11  \n",
        "   (D) 38  \n",
        "   (E) None of these\n",
        "#   C\n"
      ],
      "metadata": {
        "id": "83u9dsqxuTMf"
      }
    },
    {
      "cell_type": "markdown",
      "source": [
        "# 5.\n",
        "What is the output of this code in python?\n",
        "        r = lambda q: q * 2\n",
        "        s = lambda q: q * 3\n",
        "        x = 2\n",
        "        x = r (x)\n",
        "        x = s (x)\n",
        "        x = r (x)\n",
        "        print (x)\n",
        "   \n",
        "   (A) 2  \n",
        "   (B) 4  \n",
        "   (C) 6  \n",
        "   (D) 12  \n",
        "   (E) 24\n",
        "#   E"
      ],
      "metadata": {
        "id": "2jW_msXCuscf"
      }
    },
    {
      "cell_type": "markdown",
      "source": [
        "# 6.\n",
        "Which of the following conditions correctly describes the output of this code in  Python?\n",
        "         first = [1 , 2 , 3 , 4 , 5]\n",
        "         second = first\n",
        "         second.append (6)\n",
        "         print (first)\n",
        "         print (second)\n",
        "\n",
        "   (A) first=[1, 2, 3, 4, 5], second=[1, 2, 3, 4, 5, 6]\n",
        "   \n",
        "   (B) first=[1, 2, 3, 4, 5, 6], second=[1, 2, 3, 4, 5]\n",
        "   \n",
        "   (C) first=[1, 2, 3, 4, 5], second=[1, 2, 3, 4, 5]\n",
        "   \n",
        "   (D) first=[1, 2, 3, 4, 5, 6], second=[1, 2, 3, 4, 5, 6]\n",
        "   \n",
        "   (E) None of these\n",
        "#   A"
      ],
      "metadata": {
        "id": "If1CBYmOvIyV"
      }
    },
    {
      "cell_type": "markdown",
      "source": [
        "# 7.\n",
        "If the function \n",
        "int volume (int x = 1, int y = 1, int z = 1); \n",
        "is called by the expression volume (7,8), \n",
        "how many default arguments are used?\n",
        "\n",
        "(A) None  \n",
        "(B) One  \n",
        "(C) Two  \n",
        "(D) Three\n",
        "\n",
        "(E) It depends on the runtime environment.\n",
        "\n",
        "# C"
      ],
      "metadata": {
        "id": "NeRpSAd9vWR8"
      }
    },
    {
      "cell_type": "markdown",
      "source": [
        "# B1\n",
        "\n",
        "## Answer\n",
        "[2, 3, 5, 7, 11, 13, 17, 19, 23, 29, 31, 37, 41, 43, 47, 53, 59, 61, 67, 71, 73, 79, 83, 89, 97]"
      ],
      "metadata": {
        "id": "AclJiJrXwOVo"
      }
    },
    {
      "cell_type": "markdown",
      "source": [
        "# B2\n",
        "## Answer\n",
        "[2, 3, 5, 7, 11, 13, 17, 19, 23, 29, 31, 37, 41, 43, 47, 53, 59, 61, 67, 71, 73, 79, 83, 89, 97]"
      ],
      "metadata": {
        "id": "csKC5MGVxDxq"
      }
    },
    {
      "cell_type": "markdown",
      "source": [
        "# B3\n",
        "## Answer\n",
        "[1, 8, 27, 64, 125]"
      ],
      "metadata": {
        "id": "9uH06hOhxW4h"
      }
    },
    {
      "cell_type": "markdown",
      "source": [
        "# Programming Python\n",
        "The Fibonacci numbers may be defined by the recurrence relation\n",
        " F_{0}=0, F_{1}=1\n",
        "and\n",
        "F_{n} = F_{n-1} + F_{n-2}   for n > 1.\n",
        "\n",
        "0,1,1,2,3,5,8,......\n",
        "\n",
        "Under some older definitions, the value  F_{0}=0 is omitted, \n",
        "so that the sequence starts with F_{1}=F_{2}=1 and \n",
        "the recurrence F_{n}=F_{n-1}+F_{n-2} is valid for n > 2\n",
        "\n",
        "(1)Write a Python function/Program to Find Fibonacci Numbers using Recursion\n",
        "(2)use iterative Approach To Find the nth Term Of Fibonacci Sequence(You need to write a function using loop)"
      ],
      "metadata": {
        "id": "5HoCN2f0x6wv"
      }
    },
    {
      "cell_type": "code",
      "source": [
        "def f(n):\n",
        "   if n <= 1:\n",
        "       return n\n",
        "   else:\n",
        "       return(f(n-1) + f(n-2))\n",
        "n = 16\n",
        "if n >= 0:\n",
        "   for i in range(n):\n",
        "       print(f(i))\n"
      ],
      "metadata": {
        "colab": {
          "base_uri": "https://localhost:8080/"
        },
        "id": "XAuP6g7wyJWy",
        "outputId": "2e6043fa-f6bd-41b7-918b-6c7de90ab0a1"
      },
      "execution_count": 10,
      "outputs": [
        {
          "output_type": "stream",
          "name": "stdout",
          "text": [
            "0\n",
            "1\n",
            "1\n",
            "2\n",
            "3\n",
            "5\n",
            "8\n",
            "13\n",
            "21\n",
            "34\n",
            "55\n",
            "89\n",
            "144\n",
            "233\n",
            "377\n",
            "610\n"
          ]
        }
      ]
    },
    {
      "cell_type": "code",
      "source": [
        "f1 = 0\n",
        "f2 = 1\n",
        "nth = int (input(\"Enter the nth terms you Want; \"))\n",
        "print(f1,f2,end=\" \")\n",
        "while(nth-2):\n",
        "  result = f1 + f2\n",
        "  f1, f2 = f2, result\n",
        "  print(result, end=\" \")\n",
        "  nth = nth - 1\n",
        "  "
      ],
      "metadata": {
        "colab": {
          "base_uri": "https://localhost:8080/"
        },
        "id": "9PaVSPnw9J5j",
        "outputId": "7d75e2cd-bd86-4694-fb83-d86c4d7a5d46"
      },
      "execution_count": 3,
      "outputs": [
        {
          "output_type": "stream",
          "name": "stdout",
          "text": [
            "Enter the nth terms you Want; 10\n",
            "0 1 1 2 3 5 8 13 21 34 "
          ]
        }
      ]
    }
  ]
}

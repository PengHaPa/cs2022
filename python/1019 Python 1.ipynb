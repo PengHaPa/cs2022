{
  "nbformat": 4,
  "nbformat_minor": 0,
  "metadata": {
    "colab": {
      "provenance": [],
      "authorship_tag": "ABX9TyNNd6kMOx/XReHDd2DjGTKr",
      "include_colab_link": true
    },
    "kernelspec": {
      "name": "python3",
      "display_name": "Python 3"
    },
    "language_info": {
      "name": "python"
    }
  },
  "cells": [
    {
      "cell_type": "markdown",
      "metadata": {
        "id": "view-in-github",
        "colab_type": "text"
      },
      "source": [
        "<a href=\"https://colab.research.google.com/github/PengHaPa/cs2022/blob/main/1019%20Python%201.ipynb\" target=\"_parent\"><img src=\"https://colab.research.google.com/assets/colab-badge.svg\" alt=\"Open In Colab\"/></a>"
      ]
    },
    {
      "cell_type": "markdown",
      "source": [
        "# 1019 \"4110E230\" 彭哈帕\n",
        "\n",
        "Python Conditions and If statements\n",
        "\n",
        "Exercise 1 : Print \"Hello Kaori\" if a is greater than b."
      ],
      "metadata": {
        "id": "ng3HFbvIuPK1"
      }
    },
    {
      "cell_type": "markdown",
      "source": [],
      "metadata": {
        "id": "ZnFz_60ouQbT"
      }
    },
    {
      "cell_type": "code",
      "source": [
        "\n",
        "a = 50\n",
        "b = 10\n",
        "if a > b:\n",
        "  print(\"Hello Kaori\")"
      ],
      "metadata": {
        "colab": {
          "base_uri": "https://localhost:8080/"
        },
        "id": "Nmlp74ksugwB",
        "outputId": "4d0f4ec6-502d-4d47-c3b2-035d6ac11269"
      },
      "execution_count": 3,
      "outputs": [
        {
          "output_type": "stream",
          "name": "stdout",
          "text": [
            "Hello Kaori\n"
          ]
        }
      ]
    },
    {
      "cell_type": "markdown",
      "source": [
        "Exercise 2: Print \"Hello Kaori\" if a is not equal to b."
      ],
      "metadata": {
        "id": "TcmhGeoHvnNl"
      }
    },
    {
      "cell_type": "code",
      "source": [
        "a = 50\n",
        "b = 10\n",
        "if a != b:\n",
        "  print(\"Hello Kaori\")"
      ],
      "metadata": {
        "colab": {
          "base_uri": "https://localhost:8080/"
        },
        "id": "qBxLDekDwBaH",
        "outputId": "87690424-1086-428e-ef4f-26298114377f"
      },
      "execution_count": 4,
      "outputs": [
        {
          "output_type": "stream",
          "name": "stdout",
          "text": [
            "Hello Kaori\n"
          ]
        }
      ]
    },
    {
      "cell_type": "markdown",
      "source": [
        "Exercise 3: Print \"Yes\" if a is equal to b, otherwise print \"No\"."
      ],
      "metadata": {
        "id": "WTChtTSVwRgZ"
      }
    },
    {
      "cell_type": "code",
      "source": [
        "a = 50\n",
        "b = 50\n",
        "if a == b:\n",
        "  print(\"Yes\")\n",
        "else:\n",
        "  print(\"No\")"
      ],
      "metadata": {
        "colab": {
          "base_uri": "https://localhost:8080/"
        },
        "id": "cPbKzcCcwbKE",
        "outputId": "7fdd93f6-0de2-4895-b186-9afe609f2964"
      },
      "execution_count": 6,
      "outputs": [
        {
          "output_type": "stream",
          "name": "stdout",
          "text": [
            "Yes\n"
          ]
        }
      ]
    },
    {
      "cell_type": "markdown",
      "source": [
        "Exercise 4: Print \"A\" if a is equal to b, print \"B\" if a is greater than b, otherwise print \"C\"."
      ],
      "metadata": {
        "id": "Q8VhLba9wxDu"
      }
    },
    {
      "cell_type": "code",
      "source": [
        "a = 50\n",
        "b = 60\n",
        "if a == b:\n",
        "  print(\"A\")\n",
        "elif a > b:\n",
        "  print(\"B\")\n",
        "else:\n",
        "  print(\"C\")"
      ],
      "metadata": {
        "colab": {
          "base_uri": "https://localhost:8080/"
        },
        "id": "2zTacv8dw4nF",
        "outputId": "efe55095-d43a-41b7-a582-03b8519bdea1"
      },
      "execution_count": 8,
      "outputs": [
        {
          "output_type": "stream",
          "name": "stdout",
          "text": [
            "C\n"
          ]
        }
      ]
    },
    {
      "cell_type": "markdown",
      "source": [
        "Exercise 5: Print \"Kaori\" if a is equal to b, and c is equal to d."
      ],
      "metadata": {
        "id": "uDaoeb9Cxf22"
      }
    },
    {
      "cell_type": "code",
      "source": [
        "a = 10\n",
        "b = 10\n",
        "c = 30\n",
        "d = 30\n",
        "if a == b and c == d:\n",
        "  print(\"Kaori\")"
      ],
      "metadata": {
        "colab": {
          "base_uri": "https://localhost:8080/"
        },
        "id": "cueXT4eXxz_3",
        "outputId": "114ca3a1-6343-446c-a1d4-52306f5646fb"
      },
      "execution_count": 14,
      "outputs": [
        {
          "output_type": "stream",
          "name": "stdout",
          "text": [
            "Kaori\n"
          ]
        }
      ]
    },
    {
      "cell_type": "markdown",
      "source": [
        "Exercise 6: Print \"Kaori\" if a is equal to b, or if c is equal to d.\n",
        "\n"
      ],
      "metadata": {
        "id": "ctRsvqmqyX-3"
      }
    },
    {
      "cell_type": "code",
      "source": [
        "a = 10\n",
        "b = 10\n",
        "c = 13\n",
        "d = 13\n",
        "if a == b or c == d:\n",
        "  print(\"Kaori\")"
      ],
      "metadata": {
        "colab": {
          "base_uri": "https://localhost:8080/"
        },
        "id": "dtyYNG4YyrmL",
        "outputId": "83375b41-0055-4423-f6a6-9127211730cd"
      },
      "execution_count": 15,
      "outputs": [
        {
          "output_type": "stream",
          "name": "stdout",
          "text": [
            "Kaori\n"
          ]
        }
      ]
    },
    {
      "cell_type": "markdown",
      "source": [
        "Exercise 7: This example misses indentations to be correct.\n",
        "\n",
        "Insert the missing indentation to make the code correct:"
      ],
      "metadata": {
        "id": "jOq0twVey7uY"
      }
    },
    {
      "cell_type": "code",
      "source": [
        "if 5 > 2:\n",
        "   print(\"Awsome!\")"
      ],
      "metadata": {
        "colab": {
          "base_uri": "https://localhost:8080/"
        },
        "id": "Ci0BNOFAzFZi",
        "outputId": "c37ebf28-ddfd-4fb3-abb2-883788066fbd"
      },
      "execution_count": 16,
      "outputs": [
        {
          "output_type": "stream",
          "name": "stdout",
          "text": [
            "Awsome!\n"
          ]
        }
      ]
    },
    {
      "cell_type": "markdown",
      "source": [
        "Exercise 8: Use the correct short hand syntax to put the following statement on one line:"
      ],
      "metadata": {
        "id": "9Upx-SWIzP1D"
      }
    },
    {
      "cell_type": "code",
      "source": [
        "if 5 > 2:print(\"Awsome!\")"
      ],
      "metadata": {
        "colab": {
          "base_uri": "https://localhost:8080/"
        },
        "id": "9z_loZvEzast",
        "outputId": "ea2258a4-8ca6-45b4-c524-0b2543c42e17"
      },
      "execution_count": 17,
      "outputs": [
        {
          "output_type": "stream",
          "name": "stdout",
          "text": [
            "Awsome!\n"
          ]
        }
      ]
    },
    {
      "cell_type": "markdown",
      "source": [
        "Exercise 9: Use the correct short hand syntax to write the following conditional expression in one line:"
      ],
      "metadata": {
        "id": "iqJWjtC5zlTG"
      }
    },
    {
      "cell_type": "code",
      "source": [
        "print(\"Yes\") if 5 > 8 else print(\"No\")"
      ],
      "metadata": {
        "colab": {
          "base_uri": "https://localhost:8080/"
        },
        "id": "RM3esipOz6Ik",
        "outputId": "515602ab-36d4-49dd-ccc0-a1f328e4a085"
      },
      "execution_count": 19,
      "outputs": [
        {
          "output_type": "stream",
          "name": "stdout",
          "text": [
            "No\n"
          ]
        }
      ]
    },
    {
      "cell_type": "code",
      "source": [],
      "metadata": {
        "id": "UWhqJaXfxc7N"
      },
      "execution_count": null,
      "outputs": []
    }
  ]
}

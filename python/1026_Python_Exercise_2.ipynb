{
  "nbformat": 4,
  "nbformat_minor": 0,
  "metadata": {
    "colab": {
      "provenance": []
    },
    "kernelspec": {
      "name": "python3",
      "display_name": "Python 3"
    },
    "language_info": {
      "name": "python"
    }
  },
  "cells": [
    {
      "cell_type": "markdown",
      "source": [
        "# Exercise \n",
        "\n",
        "- fibonacci(7)"
      ],
      "metadata": {
        "id": "gKw6XLT4H947"
      }
    },
    {
      "cell_type": "code",
      "source": [
        "def fib(n):\n",
        "  fib1 = 0\n",
        "  fib2 = 1\n",
        "  for n in range(0,n):\n",
        "    result = fib1 + fib2\n",
        "    fib1 = fib2\n",
        "    fib2 = result\n",
        "\n",
        "  return result\n",
        "  \n",
        "fib(7)"
      ],
      "metadata": {
        "id": "amy4Lh_O_tFV",
        "colab": {
          "base_uri": "https://localhost:8080/"
        },
        "outputId": "06355eb1-9a3b-4cf3-ef3e-3dfbe35b7f26"
      },
      "execution_count": 3,
      "outputs": [
        {
          "output_type": "execute_result",
          "data": {
            "text/plain": [
              "21"
            ]
          },
          "metadata": {},
          "execution_count": 3
        }
      ]
    }
  ]
}
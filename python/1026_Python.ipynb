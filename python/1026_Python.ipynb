# My Exercise

{
  "nbformat": 4,
  "nbformat_minor": 0,
  "metadata": {
    "colab": {
      "provenance": []
    },
    "kernelspec": {
      "name": "python3",
      "display_name": "Python 3"
    },
    "language_info": {
      "name": "python"
    }
  },
  "cells": [
    {
      "cell_type": "code",
      "source": [
        "def sum(i1, i2):\n",
        "    result = 0\n",
        "    for i in range(i1,i2):\n",
        "      result += i\n",
        "    return result\n",
        "\n",
        "def main():\n",
        "    print(\"Sum from 1 to 15 is\", sum(1, 16)) \n",
        "    print(\"Sum from 20 to 56 is\", sum(20, 57))\n",
        "    print(\"Sum from 35 to 70 is\", sum(35, 71))\n",
        "\n",
        "main() # Call the main function\n"
      ],
      "metadata": {
        "colab": {
          "base_uri": "https://localhost:8080/"
        },
        "id": "elqFPHFCuA3l",
        "outputId": "801455f0-bcc3-4ad1-c098-a1cfdaa0ef65"
      },
      "execution_count": 14,
      "outputs": [
        {
          "output_type": "stream",
          "name": "stdout",
          "text": [
            "Sum from 1 to 15 is 120\n",
            "Sum from 20 to 56 is 1406\n",
            "Sum from 35 to 70 is 1890\n"
          ]
        }
      ]
    }
  ]
}

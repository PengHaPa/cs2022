{
  "nbformat": 4,
  "nbformat_minor": 0,
  "metadata": {
    "colab": {
      "provenance": [],
      "collapsed_sections": []
    },
    "kernelspec": {
      "name": "python3",
      "display_name": "Python 3"
    },
    "language_info": {
      "name": "python"
    }
  },
  "cells": [
    {
      "cell_type": "markdown",
      "source": [
        "# Exam 1\n",
        "f(n) = 1+2+3+....+(n-1)+n\n",
        "     = f(n-1) + n\n",
        "     \n",
        "termination: f(1) = 1\n",
        "recurrence  function : f(n) = f(n-1) + n\n",
        "\n",
        "1.Recursive function for F(n)\n"
      ],
      "metadata": {
        "id": "7coxF56O1C1f"
      }
    },
    {
      "cell_type": "code",
      "execution_count": 19,
      "metadata": {
        "colab": {
          "base_uri": "https://localhost:8080/"
        },
        "id": "n79KDlv4vmnY",
        "outputId": "c867e065-1d0d-4888-ccb6-9f9a630e2af5"
      },
      "outputs": [
        {
          "output_type": "execute_result",
          "data": {
            "text/plain": [
              "55"
            ]
          },
          "metadata": {},
          "execution_count": 19
        }
      ],
      "source": [
        "def f(n):\n",
        "  if n == 1:\n",
        "    return 1\n",
        "  else:\n",
        "    return n + f(n-1)\n",
        "\n",
        "f(10)\n"
      ]
    },
    {
      "cell_type": "markdown",
      "source": [
        "# Exam 1\n",
        "f(n) = 1+2+3+....+(n-1)+n\n",
        "     = f(n-1) + n\n",
        "     \n",
        "termination: f(1) = 1\n",
        "recurrence  function : f(n) = f(n-1) + n\n",
        "\n",
        "2.Iterrative function for f(n)\n"
      ],
      "metadata": {
        "id": "e1_4kpw01Zxb"
      }
    },
    {
      "cell_type": "code",
      "source": [
        "n = 10\n",
        "f = 0\n",
        "for i in range(0, n + 1 ):\n",
        "  f += i\n",
        "  print(f)\n",
        "    "
      ],
      "metadata": {
        "id": "dTZkt-Zb1Ycz",
        "colab": {
          "base_uri": "https://localhost:8080/"
        },
        "outputId": "de47753e-2ad8-48e0-adaa-62fbdfcaa4d3"
      },
      "execution_count": 47,
      "outputs": [
        {
          "output_type": "stream",
          "name": "stdout",
          "text": [
            "0\n",
            "1\n",
            "3\n",
            "6\n",
            "10\n",
            "15\n",
            "21\n",
            "28\n",
            "36\n",
            "45\n",
            "55\n"
          ]
        }
      ]
    },
    {
      "cell_type": "markdown",
      "source": [
        "# Exam 2\n",
        "f(n) = n!\n",
        "     = 1*2*3*.....*n\n",
        "\n",
        "1.write a recursive function for f(n)"
      ],
      "metadata": {
        "id": "V6z_Cf2-1ZrN"
      }
    },
    {
      "cell_type": "code",
      "source": [
        "def f(n):\n",
        "  if n == 1:\n",
        "    return 1\n",
        "  else:\n",
        "    return n * f(n - 1)\n",
        "\n",
        "f(10)\n"
      ],
      "metadata": {
        "id": "D5j-hpqG1bbP",
        "colab": {
          "base_uri": "https://localhost:8080/"
        },
        "outputId": "d3c5d5df-bc4a-42fe-e33b-4dd2795580c5"
      },
      "execution_count": 46,
      "outputs": [
        {
          "output_type": "execute_result",
          "data": {
            "text/plain": [
              "3628800"
            ]
          },
          "metadata": {},
          "execution_count": 46
        }
      ]
    },
    {
      "cell_type": "markdown",
      "source": [
        "# Exam 2\n",
        "f(n) = n!\n",
        "     = 1*2*3*.....*n\n",
        "\n",
        "2.write a iterative function for f(n)"
      ],
      "metadata": {
        "id": "ix7-slZ2I-13"
      }
    },
    {
      "cell_type": "code",
      "source": [
        "n = 10\n",
        "multi = 1\n",
        "for x in range(1, n+1):\n",
        "  multi *= x\n",
        "  print (multi)\n",
        "\n",
        "\n",
        "\n"
      ],
      "metadata": {
        "colab": {
          "base_uri": "https://localhost:8080/"
        },
        "id": "2cHJglBDJED3",
        "outputId": "10b3ae67-ec52-4c42-cc1d-b4b59c6c0581"
      },
      "execution_count": 50,
      "outputs": [
        {
          "output_type": "stream",
          "name": "stdout",
          "text": [
            "1\n",
            "2\n",
            "6\n",
            "24\n",
            "120\n",
            "720\n",
            "5040\n",
            "40320\n",
            "362880\n",
            "3628800\n"
          ]
        }
      ]
    },
    {
      "cell_type": "markdown",
      "source": [
        "# Exam 3\n",
        "\n",
        "GCD:Greatest common divisor - Wikipedia\n",
        "gcd(8,12)=4\n",
        "https://en.wikipedia.org/wiki/Greatest_common_divisor\n",
        "\n",
        "Euclidean algorithm\n",
        "\n",
        "gcd(48,18)\n",
        "\n",
        "= gcd(18,48%18)\n",
        "\n",
        "= gcd(18,12)\n",
        "\n",
        "= gcd(12,18%12)\n",
        "\n",
        "= gcd(12,6)\n",
        "\n",
        "= gcd(6,12%6)\n",
        "\n",
        "= gcd(6,0)\n",
        "\n",
        "= 6\n",
        "\n",
        "output: gcd(n,m) \n",
        "\n",
        "print(gcd(48,18))\n",
        "\n",
        "gcd(18,48)  ==> gcd(48,18)  \n",
        "\n",
        "gcd(x,0) ==> return x\n",
        "\n",
        "recurrence  relation  : \n",
        "\n",
        "1.write a recursive function for gcd(n,m)\n"
      ],
      "metadata": {
        "id": "0Wax1eT447Qi"
      }
    },
    {
      "cell_type": "code",
      "source": [
        "def gcd (n,m):\n",
        "  if m == 0:\n",
        "    return n\n",
        "  else:\n",
        "    return gcd(m, n%m)\n",
        "\n",
        "gcd(18,48)"
      ],
      "metadata": {
        "colab": {
          "base_uri": "https://localhost:8080/"
        },
        "id": "ov8BtW1P5ftT",
        "outputId": "e9ecfce1-4d1a-4961-ec56-042e94612724"
      },
      "execution_count": 83,
      "outputs": [
        {
          "output_type": "execute_result",
          "data": {
            "text/plain": [
              "6"
            ]
          },
          "metadata": {},
          "execution_count": 83
        }
      ]
    },
    {
      "cell_type": "markdown",
      "source": [
        "# GCD:Greatest common divisor - Wikipedia gcd(8,12)=4 https://en.wikipedia.org/wiki/Greatest_common_divisor\n",
        "\n",
        "Euclidean algorithm\n",
        "\n",
        "gcd(48,18)\n",
        "\n",
        "= gcd(18,48%18)\n",
        "\n",
        "= gcd(18,12)\n",
        "\n",
        "= gcd(12,18%12)\n",
        "\n",
        "= gcd(12,6)\n",
        "\n",
        "= gcd(6,12%6)\n",
        "\n",
        "= gcd(6,0)\n",
        "\n",
        "= 6\n",
        "\n",
        "output: gcd(n,m)\n",
        "\n",
        "print(gcd(48,18))\n",
        "\n",
        "gcd(18,48) ==> gcd(48,18)\n",
        "\n",
        "gcd(x,0) ==> return x\n",
        "\n",
        "recurrence relation :\n",
        "\n",
        "2.write a iterative function for gcd(n,m)"
      ],
      "metadata": {
        "id": "XNb6RAJw7LMi"
      }
    },
    {
      "cell_type": "code",
      "source": [
        "n = 48\n",
        "m = 18\n",
        "print (\"GCD (%d),(%d)\"% (n,m))\n",
        "while n != m:\n",
        "  if n == m:\n",
        "    print(\"GCD is %d\"% (n))\n",
        "  if n > m:\n",
        "    n -= m\n",
        "  else:\n",
        "    m -= n\n",
        "  if m == n:\n",
        "    print(\"GCD is %d\"% (m))\n",
        "\n",
        "\n"
      ],
      "metadata": {
        "colab": {
          "base_uri": "https://localhost:8080/"
        },
        "id": "w0qln8DXTeGr",
        "outputId": "e3dfdeef-3a41-4f1d-a179-a1374e5dc2e7"
      },
      "execution_count": 114,
      "outputs": [
        {
          "output_type": "stream",
          "name": "stdout",
          "text": [
            "GCD (48),(18)\n",
            "GCD is 6\n"
          ]
        }
      ]
    }
  ]
}
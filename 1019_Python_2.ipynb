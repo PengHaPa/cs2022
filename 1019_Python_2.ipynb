{
  "nbformat": 4,
  "nbformat_minor": 0,
  "metadata": {
    "colab": {
      "provenance": [],
      "authorship_tag": "ABX9TyOYeQ3AVM8S1NtIRVawRJ0o",
      "include_colab_link": true
    },
    "kernelspec": {
      "name": "python3",
      "display_name": "Python 3"
    },
    "language_info": {
      "name": "python"
    }
  },
  "cells": [
    {
      "cell_type": "markdown",
      "metadata": {
        "id": "view-in-github",
        "colab_type": "text"
      },
      "source": [
        "<a href=\"https://colab.research.google.com/github/PengHaPa/cs2022/blob/main/1019_Python_2.ipynb\" target=\"_parent\"><img src=\"https://colab.research.google.com/assets/colab-badge.svg\" alt=\"Open In Colab\"/></a>"
      ]
    },
    {
      "cell_type": "markdown",
      "source": [
        "# 1019 \"4110E230\" James Ryan Pregon\n",
        "\n",
        "For Loop\n",
        "\n",
        "## Python For Loops\n",
        "Example: Print each color in a color list:"
      ],
      "metadata": {
        "id": "lS-abs5S4gZ8"
      }
    },
    {
      "cell_type": "code",
      "source": [
        "color = [\"white\", \"green\", \"blue\" ]\n",
        "for x in color:\n",
        "  print(x)"
      ],
      "metadata": {
        "colab": {
          "base_uri": "https://localhost:8080/"
        },
        "id": "g7w9ePW35P8S",
        "outputId": "15ec3f60-69b3-4a16-a54f-870777168bb0"
      },
      "execution_count": 1,
      "outputs": [
        {
          "output_type": "stream",
          "name": "stdout",
          "text": [
            "white\n",
            "green\n",
            "blue\n"
          ]
        }
      ]
    },
    {
      "cell_type": "markdown",
      "source": [
        "## Looping Through a String\n",
        "Example: Loop through the letters in the word \"white\":"
      ],
      "metadata": {
        "id": "FQABWTp_5hMv"
      }
    },
    {
      "cell_type": "code",
      "source": [
        "for x in \"white\":\n",
        "  print(x)"
      ],
      "metadata": {
        "colab": {
          "base_uri": "https://localhost:8080/"
        },
        "id": "vm_EN4PT57TU",
        "outputId": "8cbe765c-4e81-40f9-f001-ad950e77790b"
      },
      "execution_count": 2,
      "outputs": [
        {
          "output_type": "stream",
          "name": "stdout",
          "text": [
            "w\n",
            "h\n",
            "i\n",
            "t\n",
            "e\n"
          ]
        }
      ]
    },
    {
      "cell_type": "markdown",
      "source": [
        "# The break Statement\n",
        "Example 1: Exit the loop when x is \"white\":\n",
        "\n",
        "Example 2:  Exit the loop when x is \"white\", but this time the break comes before the print:"
      ],
      "metadata": {
        "id": "syZ8hXA76AIC"
      }
    },
    {
      "cell_type": "code",
      "source": [
        "colors = [\"blue\", \"white\",\"green\"]\n",
        "for x in colors:\n",
        "  print(x)\n",
        "  if x == \"white\":\n",
        "    break"
      ],
      "metadata": {
        "colab": {
          "base_uri": "https://localhost:8080/"
        },
        "id": "CrdloYZQ6Msq",
        "outputId": "633c4ad6-0386-4842-e3c6-f52513195d16"
      },
      "execution_count": 5,
      "outputs": [
        {
          "output_type": "stream",
          "name": "stdout",
          "text": [
            "blue\n",
            "white\n"
          ]
        }
      ]
    },
    {
      "cell_type": "code",
      "source": [
        "colors = [\"blue\", \"white\",\"green\"]\n",
        "for x in colors:\n",
        "  if x == \"white\":\n",
        "    break\n",
        "  print(x)"
      ],
      "metadata": {
        "colab": {
          "base_uri": "https://localhost:8080/"
        },
        "id": "F-oE4_TL6jag",
        "outputId": "80fc98d8-ab37-4833-ba15-b628d8bd986d"
      },
      "execution_count": 6,
      "outputs": [
        {
          "output_type": "stream",
          "name": "stdout",
          "text": [
            "blue\n"
          ]
        }
      ]
    },
    {
      "cell_type": "markdown",
      "source": [
        "# The continue Statement\n",
        "Example: Do not print blue:"
      ],
      "metadata": {
        "id": "hVXun0K07MfQ"
      }
    },
    {
      "cell_type": "code",
      "source": [
        "colors = [\"blue\", \"white\",\"green\"]\n",
        "for x in colors:\n",
        "  if x == \"blue\":\n",
        "    continue\n",
        "  print(x)"
      ],
      "metadata": {
        "colab": {
          "base_uri": "https://localhost:8080/"
        },
        "id": "hRraYIPX7Xoi",
        "outputId": "5149007b-c3fc-483b-fd81-0bc58a384b7c"
      },
      "execution_count": 7,
      "outputs": [
        {
          "output_type": "stream",
          "name": "stdout",
          "text": [
            "white\n",
            "green\n"
          ]
        }
      ]
    },
    {
      "cell_type": "markdown",
      "source": [
        "# The range() Function\n",
        "Example: Using the range() function:"
      ],
      "metadata": {
        "id": "3xzx5Z2r7mJp"
      }
    },
    {
      "cell_type": "code",
      "source": [
        "for x in range(5):\n",
        "  print(x)"
      ],
      "metadata": {
        "colab": {
          "base_uri": "https://localhost:8080/"
        },
        "id": "QsXgvK6j70R9",
        "outputId": "0dc3a036-4105-4dc9-f26f-b562ebee8f44"
      },
      "execution_count": 8,
      "outputs": [
        {
          "output_type": "stream",
          "name": "stdout",
          "text": [
            "0\n",
            "1\n",
            "2\n",
            "3\n",
            "4\n"
          ]
        }
      ]
    },
    {
      "cell_type": "markdown",
      "source": [
        "# Else in For Loop\n",
        "Example 1: Print all numbers from 0 to 4, and print a message when the loop has ended:\n",
        "\n",
        "Example 2:Break the loop when x is 4, and see what happens with the else block:"
      ],
      "metadata": {
        "id": "moGXxWfg8IGQ"
      }
    },
    {
      "cell_type": "code",
      "source": [
        "for x in range(5):\n",
        "  print(x)\n",
        "else:\n",
        "  print(\"Finally finished!\")"
      ],
      "metadata": {
        "colab": {
          "base_uri": "https://localhost:8080/"
        },
        "id": "pvAPZiBa8O3d",
        "outputId": "359a52e6-548d-43e7-f041-8716a0f6c5d7"
      },
      "execution_count": 9,
      "outputs": [
        {
          "output_type": "stream",
          "name": "stdout",
          "text": [
            "0\n",
            "1\n",
            "2\n",
            "3\n",
            "4\n",
            "Finally finished!\n"
          ]
        }
      ]
    },
    {
      "cell_type": "code",
      "source": [
        "for x in range(6):\n",
        "  if x == 4: break\n",
        "  print(x)\n",
        "else:\n",
        "  print(\"Finally finished!\")"
      ],
      "metadata": {
        "colab": {
          "base_uri": "https://localhost:8080/"
        },
        "id": "u6eJthSh8tFL",
        "outputId": "d4a6f525-0151-4c8d-837c-c40749af395b"
      },
      "execution_count": 10,
      "outputs": [
        {
          "output_type": "stream",
          "name": "stdout",
          "text": [
            "0\n",
            "1\n",
            "2\n",
            "3\n"
          ]
        }
      ]
    },
    {
      "cell_type": "markdown",
      "source": [
        "# Nested Loops\n",
        "Example: Print each adjective for every color:"
      ],
      "metadata": {
        "id": "RiuuP6rd9Bwu"
      }
    },
    {
      "cell_type": "code",
      "source": [
        "adj = [\"bright\", \"dark\", \"light\"]\n",
        "colors = [\"yellow\", \"black\", \"blue\"]\n",
        "\n",
        "for x in adj:\n",
        "  for y in colors:\n",
        "    print(x, y)"
      ],
      "metadata": {
        "colab": {
          "base_uri": "https://localhost:8080/"
        },
        "id": "X1zg8au38tMv",
        "outputId": "1784ec00-26f3-45ed-aa87-aa80524f38fc"
      },
      "execution_count": 11,
      "outputs": [
        {
          "output_type": "stream",
          "name": "stdout",
          "text": [
            "bright yellow\n",
            "bright black\n",
            "bright blue\n",
            "dark yellow\n",
            "dark black\n",
            "dark blue\n",
            "light yellow\n",
            "light black\n",
            "light blue\n"
          ]
        }
      ]
    },
    {
      "cell_type": "markdown",
      "source": [
        "# The pass Statement\n",
        "Example: "
      ],
      "metadata": {
        "id": "sZexCFL993Qf"
      }
    },
    {
      "cell_type": "code",
      "source": [
        "for x in [2, 4, 6, 8, 10]:\n",
        "  pass"
      ],
      "metadata": {
        "id": "DBHC3Bdv-IO0"
      },
      "execution_count": 12,
      "outputs": []
    }
  ]
}